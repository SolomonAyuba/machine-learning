{
  "nbformat": 4,
  "nbformat_minor": 0,
  "metadata": {
    "colab": {
      "provenance": [],
      "authorship_tag": "ABX9TyOFEfkZpzjwwZ6nrbv0JJlq",
      "include_colab_link": true
    },
    "kernelspec": {
      "name": "python3",
      "display_name": "Python 3"
    },
    "language_info": {
      "name": "python"
    }
  },
  "cells": [
    {
      "cell_type": "markdown",
      "metadata": {
        "id": "view-in-github",
        "colab_type": "text"
      },
      "source": [
        "<a href=\"https://colab.research.google.com/github/SolomonAyuba/machine-learning/blob/main/Machine_Learning.ipynb\" target=\"_parent\"><img src=\"https://colab.research.google.com/assets/colab-badge.svg\" alt=\"Open In Colab\"/></a>"
      ]
    },
    {
      "cell_type": "markdown",
      "source": [
        "# Data Processing Techniques\n",
        "\n",
        "### Rescaling Data (Normalisation)\n",
        "\n",
        "Rescaling is essential when features have dierent ranges. For instance, if one\n",
        "variable ranges from 0 to 1000, while another is between 0 and 1, models that\n",
        "depend on distance calculations, such as k-Nearest Neighbours (KNN) and Support Vector Machines (SVMs), may become biased.\n",
        "- Min-Max Scaling: Converts features to a scale between 0 and 1.\n",
        "- Formular: _X' = X - X_min ÷ X_max - X_min_\n",
        "\n",
        "Example using Scikit-Learn"
      ],
      "metadata": {
        "id": "jm209AMyBlX-"
      }
    },
    {
      "cell_type": "code",
      "source": [
        "from sklearn.preprocessing import MinMaxScaler\n",
        "import numpy as np\n",
        "\n",
        "data = np.array([[200], [400], [600], [800], [1000]])\n",
        "scaler = MinMaxScaler()\n",
        "scaled_data = scaler.fit_transform(data)\n",
        "print(scaled_data)"
      ],
      "metadata": {
        "colab": {
          "base_uri": "https://localhost:8080/"
        },
        "id": "-mEg6DvMCY38",
        "outputId": "22d9df90-73aa-4676-d811-18d1e4538479"
      },
      "execution_count": 2,
      "outputs": [
        {
          "output_type": "stream",
          "name": "stdout",
          "text": [
            "[[0.  ]\n",
            " [0.25]\n",
            " [0.5 ]\n",
            " [0.75]\n",
            " [1.  ]]\n"
          ]
        }
      ]
    },
    {
      "cell_type": "code",
      "execution_count": null,
      "metadata": {
        "id": "Eb-UJJ0u_-6I"
      },
      "outputs": [],
      "source": []
    }
  ]
}